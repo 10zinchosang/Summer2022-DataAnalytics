{
  "nbformat": 4,
  "nbformat_minor": 0,
  "metadata": {
    "colab": {
      "name": "Homework 1.ipynb",
      "provenance": [],
      "collapsed_sections": [],
      "include_colab_link": true
    },
    "kernelspec": {
      "name": "python3",
      "display_name": "Python 3"
    },
    "language_info": {
      "name": "python"
    }
  },
  "cells": [
    {
      "cell_type": "markdown",
      "metadata": {
        "id": "view-in-github",
        "colab_type": "text"
      },
      "source": [
        "<a href=\"https://colab.research.google.com/github/10zinchosang/Summer2022-DataAnalytics/blob/main/Homework_1.ipynb\" target=\"_parent\"><img src=\"https://colab.research.google.com/assets/colab-badge.svg\" alt=\"Open In Colab\"/></a>"
      ]
    },
    {
      "cell_type": "markdown",
      "source": [
        "# Answer all the questions!\n",
        "## Tenzin Chosang\n",
        "## July 13, 2022"
      ],
      "metadata": {
        "id": "FkJsXd8D06Rp"
      }
    },
    {
      "cell_type": "markdown",
      "source": [
        "##Write a Python program to get the volume of a sphere with radius 6"
      ],
      "metadata": {
        "id": "elOgKZR009ex"
      }
    },
    {
      "cell_type": "code",
      "source": [
        "import math\n",
        "# Import math library\n",
        "# Source: https://appdividend.com/2022/06/15/python-pi/\n",
        "\n",
        "r = 6\n",
        "volume = (4*math.pi*(r**3))/3\n",
        "# math.pi allows us to use the actual number for pi\n",
        "# Volume of sphere is V = (4*pi*r^3)/3\n",
        "\n",
        "print(volume)"
      ],
      "metadata": {
        "id": "YbhKO6Cs09av",
        "colab": {
          "base_uri": "https://localhost:8080/"
        },
        "outputId": "aa0763de-18df-4972-c185-f374aca8f4e9"
      },
      "execution_count": 2,
      "outputs": [
        {
          "output_type": "stream",
          "name": "stdout",
          "text": [
            "904.7786842338604\n"
          ]
        }
      ]
    },
    {
      "cell_type": "markdown",
      "source": [
        "##Write a Python program to find whether a given number (accept from the user) is even or odd"
      ],
      "metadata": {
        "id": "OuX7aazu09X1"
      }
    },
    {
      "cell_type": "code",
      "source": [
        "num = int(input(\"Enter a number: \"))\n",
        "# Stores the integer of the string that the user inputs\n",
        "\n",
        "if num % 2 == 0:\n",
        "    print(num, \"is an even number.\")\n",
        "else:\n",
        "    print(num, \"is an odd number.\")\n",
        "# Uses modulus operator to determine even or odd"
      ],
      "metadata": {
        "id": "vcYhNNaU09Uz",
        "colab": {
          "base_uri": "https://localhost:8080/"
        },
        "outputId": "24e1ffd4-dd48-4ace-eff8-7126df566d3f"
      },
      "execution_count": 3,
      "outputs": [
        {
          "output_type": "stream",
          "name": "stdout",
          "text": [
            "Enter a number: 4\n",
            "4 is an even number.\n"
          ]
        }
      ]
    },
    {
      "cell_type": "markdown",
      "source": [
        "##Write a Python program to count the number 4 in a given list"
      ],
      "metadata": {
        "id": "NP5TZKqO09Rr"
      }
    },
    {
      "cell_type": "code",
      "source": [
        "my_list = [1,2,3,4,5,6,400,4]\n",
        "count = my_list.count(4)\n",
        "print(count)\n",
        "# Uses the list method .count() to count the number of occurences of the desired element in a list"
      ],
      "metadata": {
        "id": "oWZ3vTfW09Oh",
        "colab": {
          "base_uri": "https://localhost:8080/"
        },
        "outputId": "a11536f6-a566-4347-dec3-0d3c216eb11b"
      },
      "execution_count": 4,
      "outputs": [
        {
          "output_type": "stream",
          "name": "stdout",
          "text": [
            "2\n"
          ]
        }
      ]
    },
    {
      "cell_type": "markdown",
      "source": [
        "##Write a Python program that will accept the base and height of a triangle and compute the area"
      ],
      "metadata": {
        "id": "IK0FvUoa1MJG"
      }
    },
    {
      "cell_type": "code",
      "source": [
        "base = int(input(\"Enter a base for this triangle: \"))\n",
        "height = int(input(\"Enter a height for this triangle: \"))\n",
        "# Asks the user for base and height\n",
        "\n",
        "area = base * height / 2\n",
        "print(\"The area of this triangle is: \",area)\n",
        "# Area of triangle is (1/2) * base * height"
      ],
      "metadata": {
        "id": "G02dv4rh1MFs",
        "colab": {
          "base_uri": "https://localhost:8080/"
        },
        "outputId": "b875fb80-afb9-4307-b90b-79089248f7a3"
      },
      "execution_count": 1,
      "outputs": [
        {
          "output_type": "stream",
          "name": "stdout",
          "text": [
            "Enter a base for this triangle: 2\n",
            "Enter a height for this triangle: 3\n",
            "The area of this triangle is:  3.0\n"
          ]
        }
      ]
    },
    {
      "cell_type": "markdown",
      "source": [
        "##Write a Python program to convert the distance (in feet) to inches, yards, and miles."
      ],
      "metadata": {
        "id": "sOkeycZk1L5-"
      }
    },
    {
      "cell_type": "code",
      "source": [
        "feet = 3\n",
        "# Set feet to desired measurement\n",
        "\n",
        "inches = feet * 12\n",
        "yards = feet / 3\n",
        "miles = feet / 5280\n",
        "# Conversions\n",
        "\n",
        "print(feet, \"feet is\", inches, \"inches\")\n",
        "print(feet, \"feet is\", yards, \"yards\")\n",
        "print(feet, \"feet is\", miles, \"miles\")\n",
        "# String formatting"
      ],
      "metadata": {
        "id": "YtW-ZxqB1L2c",
        "colab": {
          "base_uri": "https://localhost:8080/"
        },
        "outputId": "9c3be92d-b716-4689-d849-b6e2557f40fa"
      },
      "execution_count": 5,
      "outputs": [
        {
          "output_type": "stream",
          "name": "stdout",
          "text": [
            "3 feet is 36 inches\n",
            "3 feet is 1.0 yards\n",
            "3 feet is 0.0005681818181818182 miles\n"
          ]
        }
      ]
    },
    {
      "cell_type": "code",
      "source": [
        ""
      ],
      "metadata": {
        "id": "HM7WnWSY7zE9"
      },
      "execution_count": 5,
      "outputs": []
    }
  ]
}