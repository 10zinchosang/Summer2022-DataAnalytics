{
  "nbformat": 4,
  "nbformat_minor": 0,
  "metadata": {
    "colab": {
      "name": "Unit2 Mini Project.ipynb",
      "provenance": [],
      "collapsed_sections": [],
      "include_colab_link": true
    },
    "kernelspec": {
      "name": "python3",
      "display_name": "Python 3"
    }
  },
  "cells": [
    {
      "cell_type": "markdown",
      "metadata": {
        "id": "view-in-github",
        "colab_type": "text"
      },
      "source": [
        "<a href=\"https://colab.research.google.com/github/10zinchosang/Summer2022-DataAnalytics/blob/main/Unit2_Mini_Project.ipynb\" target=\"_parent\"><img src=\"https://colab.research.google.com/assets/colab-badge.svg\" alt=\"Open In Colab\"/></a>"
      ]
    },
    {
      "cell_type": "markdown",
      "metadata": {
        "id": "Vgs8Kp4TidFQ"
      },
      "source": [
        "# Introduction to Python - Mini Project\n",
        "\n",
        "## Tenzin Chosang\n",
        "## July 18, 2022"
      ]
    },
    {
      "cell_type": "markdown",
      "metadata": {
        "id": "_Hq7Ny79iwgD"
      },
      "source": [
        "#Python Project – Odd or Even\n",
        "\n",
        "Ask the user for a number. Depending on whether the number is even or odd, print out an appropriate message to the user. Hint: how does an even / odd number react differently when divided by 2?\n"
      ]
    },
    {
      "cell_type": "code",
      "metadata": {
        "id": "lotvpVpvlKsR",
        "colab": {
          "base_uri": "https://localhost:8080/"
        },
        "outputId": "043b2b8e-1d0d-4d32-c63a-1e9c0bd36073"
      },
      "source": [
        "# Ask for input\n",
        "num = int(input(\"Please input a number: \"))\n",
        "\n",
        "# Check odd/even using modulus operator\n",
        "if num % 2 == 0:\n",
        "    print(num, \"is an even number because it is divisible by 2.\")\n",
        "else:\n",
        "    print(num, \"is an odd number because it is not divisible by 2.\")"
      ],
      "execution_count": 9,
      "outputs": [
        {
          "output_type": "stream",
          "name": "stdout",
          "text": [
            "Please input a number: 3\n",
            "3 is an odd number because it is not divisible by 2.\n"
          ]
        }
      ]
    },
    {
      "cell_type": "markdown",
      "metadata": {
        "id": "io_27RSlizno"
      },
      "source": [
        "# Bonus:\n",
        "\n",
        "1.\tIf the number is a multiple of 4, print out a different message.\n",
        "\n",
        "2.\tAsk the user for two numbers: one number to check (call it num) and one number to divide by (check). If check divides evenly into num, tell that to the user. If not, print a different appropriate message.\n"
      ]
    },
    {
      "cell_type": "markdown",
      "source": [
        "Bonus 1:"
      ],
      "metadata": {
        "id": "tCh4CSH5tiub"
      }
    },
    {
      "cell_type": "code",
      "source": [
        "# Ask for input\n",
        "num = int(input(\"Please input a number: \"))\n",
        "\n",
        "# Check conditions and print appropriate statements\n",
        "if num % 4 == 0:\n",
        "    print(num, \"is an even number divisible by 4.\")\n",
        "elif num % 2 == 0:\n",
        "    print(num, \"is an even number because it is divisible by 4.\")\n",
        "else:\n",
        "    print(num, \"is an odd number because it is not divisible by 2.\")"
      ],
      "metadata": {
        "colab": {
          "base_uri": "https://localhost:8080/"
        },
        "id": "YnuiAGwjvAUm",
        "outputId": "5ed7cb02-23e1-4003-8bcc-162a5e2587be"
      },
      "execution_count": 18,
      "outputs": [
        {
          "output_type": "stream",
          "name": "stdout",
          "text": [
            "Please input a number: 4\n",
            "4 is an even number divisible by 4.\n"
          ]
        }
      ]
    },
    {
      "cell_type": "markdown",
      "source": [
        "Bonus 2:"
      ],
      "metadata": {
        "id": "REOxtNNIt3NL"
      }
    },
    {
      "cell_type": "code",
      "metadata": {
        "id": "5mkKtxzunuqc",
        "colab": {
          "base_uri": "https://localhost:8080/"
        },
        "outputId": "79262647-fdd1-4058-cbf5-efb4dea658a3"
      },
      "source": [
        "# Ask for two inputs\n",
        "num = int(input(\"Please input a number: \"))\n",
        "check = int(input(\"Please input another number: \"))\n",
        "\n",
        "# Check conditions and print appropriate statements\n",
        "if num % check == 0:\n",
        "    print(check, \"divides evenly into\", num)\n",
        "else:\n",
        "    print(check, \"does not divide evenly into\", num)"
      ],
      "execution_count": 14,
      "outputs": [
        {
          "output_type": "stream",
          "name": "stdout",
          "text": [
            "Please input a number: 4\n",
            "Please input another number: 2\n",
            "2 divides evenly into 4\n"
          ]
        }
      ]
    }
  ]
}