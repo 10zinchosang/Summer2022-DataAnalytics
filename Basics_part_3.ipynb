{
  "nbformat": 4,
  "nbformat_minor": 0,
  "metadata": {
    "colab": {
      "name": "Basics part 3.ipynb",
      "provenance": [],
      "collapsed_sections": [
        "qwO5XoRvHPAE",
        "6L8oLl2kHOuK",
        "rucJF-tKOj1w"
      ],
      "authorship_tag": "ABX9TyNGMitfGvTqjciktkuKueNb",
      "include_colab_link": true
    },
    "kernelspec": {
      "name": "python3",
      "display_name": "Python 3"
    },
    "language_info": {
      "name": "python"
    }
  },
  "cells": [
    {
      "cell_type": "markdown",
      "metadata": {
        "id": "view-in-github",
        "colab_type": "text"
      },
      "source": [
        "<a href=\"https://colab.research.google.com/github/10zinchosang/Summer2022-DataAnalytics/blob/main/Basics_part_3.ipynb\" target=\"_parent\"><img src=\"https://colab.research.google.com/assets/colab-badge.svg\" alt=\"Open In Colab\"/></a>"
      ]
    },
    {
      "cell_type": "markdown",
      "source": [
        "# Intro to Python part III\n",
        "\n",
        "## Conditionals and Loops"
      ],
      "metadata": {
        "id": "_9O2npsNGoi_"
      }
    },
    {
      "cell_type": "markdown",
      "source": [
        "## Conditionals\n",
        "\n",
        "### IF... ELIF... ELSE Statements\n"
      ],
      "metadata": {
        "id": "qwO5XoRvHPAE"
      }
    },
    {
      "cell_type": "code",
      "source": [
        "\"\"\"\n",
        "if (condition):\n",
        "    do something\n",
        "\"\"\""
      ],
      "metadata": {
        "colab": {
          "base_uri": "https://localhost:8080/",
          "height": 36
        },
        "id": "5djaciwaHO9j",
        "outputId": "b890dd86-6c08-40ee-f87b-7dfd3a581c22"
      },
      "execution_count": 3,
      "outputs": [
        {
          "output_type": "execute_result",
          "data": {
            "text/plain": [
              "'\\nif (condition):\\n    do something\\n'"
            ],
            "application/vnd.google.colaboratory.intrinsic+json": {
              "type": "string"
            }
          },
          "metadata": {},
          "execution_count": 3
        }
      ]
    },
    {
      "cell_type": "code",
      "source": [
        "if 3>2:\n",
        "    print(\"Right\")\n",
        "# 3 is greater than 2 so we print \"Right\""
      ],
      "metadata": {
        "colab": {
          "base_uri": "https://localhost:8080/"
        },
        "id": "oXPxwhC-HO64",
        "outputId": "e07e2e13-82a1-4f00-e958-537134785823"
      },
      "execution_count": 4,
      "outputs": [
        {
          "output_type": "stream",
          "name": "stdout",
          "text": [
            "Right\n"
          ]
        }
      ]
    },
    {
      "cell_type": "code",
      "source": [
        "if 4>7:\n",
        "    print(\"Right\")\n",
        "else:\n",
        "    print(\"Wrong\")\n",
        "# 4 is not greater than 7 so we do the action under (else) which is print \"Wrong\""
      ],
      "metadata": {
        "colab": {
          "base_uri": "https://localhost:8080/"
        },
        "id": "V0j-tyQsHO4V",
        "outputId": "3e2009fd-ba8b-4d4e-c60f-7d7495380335"
      },
      "execution_count": 12,
      "outputs": [
        {
          "output_type": "stream",
          "name": "stdout",
          "text": [
            "Wrong\n"
          ]
        }
      ]
    },
    {
      "cell_type": "code",
      "source": [
        "a = 3\n",
        "b = 5\n",
        "\n",
        "if a>b:\n",
        "    print(\"Right\")\n",
        "else:\n",
        "    print(\"Try again\")\n",
        "# Can use conditionals on variables, 3 is not greater than 5 so we print \"Try again\""
      ],
      "metadata": {
        "colab": {
          "base_uri": "https://localhost:8080/"
        },
        "id": "5ZtEdHOzHO1v",
        "outputId": "f3fff45a-2ddc-468b-94f3-21c898b5a7d0"
      },
      "execution_count": 7,
      "outputs": [
        {
          "output_type": "stream",
          "name": "stdout",
          "text": [
            "Try again\n"
          ]
        }
      ]
    },
    {
      "cell_type": "code",
      "source": [
        "drink = \"Tea\"\n",
        "\n",
        "if drink == \"Coffee\":\n",
        "    print(\"Humaninty runs on coffee\")\n",
        "else:\n",
        "    print(\"Where there is tea, there is hope\")\n",
        "# Can also use logical operators on strings in conditionals, the string \"Tea\" is not the same as \"Coffee\" so we print the second statement"
      ],
      "metadata": {
        "colab": {
          "base_uri": "https://localhost:8080/"
        },
        "id": "hH8kvcPtHOzE",
        "outputId": "a82dd5dc-0798-4f9d-d97d-ec9d9015383a"
      },
      "execution_count": 8,
      "outputs": [
        {
          "output_type": "stream",
          "name": "stdout",
          "text": [
            "Where there is tea, there is hope\n"
          ]
        }
      ]
    },
    {
      "cell_type": "code",
      "source": [
        "drink = \"Coke\"\n",
        "\n",
        "if drink == \"Cofee\":\n",
        "    print(\"Coffeeee\")\n",
        "elif drink == \"Water\":\n",
        "    print(\"Waterrrr\")\n",
        "elif drink == \"Coke\":\n",
        "    print(\"Coca Cola\")\n",
        "elif drink == \"Tea\":\n",
        "    print(\"Give me the tea\")\n",
        "# elif allows us to check multiple things, stops at first True elif condition"
      ],
      "metadata": {
        "colab": {
          "base_uri": "https://localhost:8080/"
        },
        "id": "FkRaSCSFHOwb",
        "outputId": "cadf0b19-54db-4bcd-9041-ce6d04197a11"
      },
      "execution_count": 13,
      "outputs": [
        {
          "output_type": "stream",
          "name": "stdout",
          "text": [
            "Coca Cola\n"
          ]
        }
      ]
    },
    {
      "cell_type": "markdown",
      "source": [
        "## Loops\n",
        "\n",
        "### For... loop"
      ],
      "metadata": {
        "id": "6L8oLl2kHOuK"
      }
    },
    {
      "cell_type": "code",
      "source": [
        "\"\"\"\n",
        "for iterator in array:\n",
        "    do something\n",
        "\"\"\""
      ],
      "metadata": {
        "colab": {
          "base_uri": "https://localhost:8080/",
          "height": 36
        },
        "id": "2SIn2P17LxcD",
        "outputId": "8560a612-5b3c-4a1e-d5e4-e97c7b6d0313"
      },
      "execution_count": 15,
      "outputs": [
        {
          "output_type": "execute_result",
          "data": {
            "text/plain": [
              "'\\nfor iterator in array:\\n    do something\\n'"
            ],
            "application/vnd.google.colaboratory.intrinsic+json": {
              "type": "string"
            }
          },
          "metadata": {},
          "execution_count": 15
        }
      ]
    },
    {
      "cell_type": "code",
      "source": [
        "my_list = [ 1,2,3,4,5,6,7,8,9,10]"
      ],
      "metadata": {
        "id": "l4sy-1CTLmaT"
      },
      "execution_count": 14,
      "outputs": []
    },
    {
      "cell_type": "code",
      "source": [
        "for num in my_list:\n",
        "    print(num)"
      ],
      "metadata": {
        "colab": {
          "base_uri": "https://localhost:8080/"
        },
        "id": "tTVUlvPWLmYO",
        "outputId": "5f50a4ba-92f5-4d2f-ca51-4b368dba771a"
      },
      "execution_count": 17,
      "outputs": [
        {
          "output_type": "stream",
          "name": "stdout",
          "text": [
            "1\n",
            "2\n",
            "3\n",
            "4\n",
            "5\n",
            "6\n",
            "7\n",
            "8\n",
            "9\n",
            "10\n"
          ]
        }
      ]
    },
    {
      "cell_type": "code",
      "source": [
        "for i in my_list:\n",
        "    if i % 2 ==0:\n",
        "        print(i)"
      ],
      "metadata": {
        "colab": {
          "base_uri": "https://localhost:8080/"
        },
        "id": "IkvJd20wLmVV",
        "outputId": "49f0fe19-5ecb-4af4-a336-6cd76d43627c"
      },
      "execution_count": 18,
      "outputs": [
        {
          "output_type": "stream",
          "name": "stdout",
          "text": [
            "2\n",
            "4\n",
            "6\n",
            "8\n",
            "10\n"
          ]
        }
      ]
    },
    {
      "cell_type": "code",
      "source": [
        "for i in my_list:\n",
        "    if i % 2 !=0:\n",
        "        print(i)"
      ],
      "metadata": {
        "colab": {
          "base_uri": "https://localhost:8080/"
        },
        "id": "J3HAfIRrLmS8",
        "outputId": "f40c5f3f-c186-4eca-e070-666984f0169f"
      },
      "execution_count": 19,
      "outputs": [
        {
          "output_type": "stream",
          "name": "stdout",
          "text": [
            "1\n",
            "3\n",
            "5\n",
            "7\n",
            "9\n"
          ]
        }
      ]
    },
    {
      "cell_type": "code",
      "source": [
        "my_list = [ 1,2,3,4,5]\n",
        "list_sum = 0\n",
        "\n",
        "for num in my_list:\n",
        "    list_sum = list_sum + num\n",
        "print(list_sum)"
      ],
      "metadata": {
        "colab": {
          "base_uri": "https://localhost:8080/"
        },
        "id": "F2TIP70sLmQK",
        "outputId": "caad23d2-b97a-4dca-cbab-580c967d7085"
      },
      "execution_count": 20,
      "outputs": [
        {
          "output_type": "stream",
          "name": "stdout",
          "text": [
            "15\n"
          ]
        }
      ]
    },
    {
      "cell_type": "code",
      "source": [
        "my_string = \"Hello World\"\n",
        "\n",
        "for x in my_string:\n",
        "    print(x)"
      ],
      "metadata": {
        "colab": {
          "base_uri": "https://localhost:8080/"
        },
        "id": "802NqdHEM8kD",
        "outputId": "b34c4f0c-fe03-4d1d-cd27-06b6b97dfd74"
      },
      "execution_count": 22,
      "outputs": [
        {
          "output_type": "stream",
          "name": "stdout",
          "text": [
            "H\n",
            "e\n",
            "l\n",
            "l\n",
            "o\n",
            " \n",
            "W\n",
            "o\n",
            "r\n",
            "l\n",
            "d\n"
          ]
        }
      ]
    },
    {
      "cell_type": "code",
      "source": [
        "my_list = [(1,2),(3,4),(5,6),(7,8)]\n",
        "len(my_list)"
      ],
      "metadata": {
        "colab": {
          "base_uri": "https://localhost:8080/"
        },
        "id": "EitDxj93M8ge",
        "outputId": "d37fa867-03e4-4f9f-8705-7952c73864b5"
      },
      "execution_count": 24,
      "outputs": [
        {
          "output_type": "execute_result",
          "data": {
            "text/plain": [
              "4"
            ]
          },
          "metadata": {},
          "execution_count": 24
        }
      ]
    },
    {
      "cell_type": "code",
      "source": [
        "for tup in my_list:\n",
        "    print(tup)"
      ],
      "metadata": {
        "colab": {
          "base_uri": "https://localhost:8080/"
        },
        "id": "oaKBYHw6M8dE",
        "outputId": "287e51c8-5f96-49e0-fb71-8ec7c6fd901a"
      },
      "execution_count": 25,
      "outputs": [
        {
          "output_type": "stream",
          "name": "stdout",
          "text": [
            "(1, 2)\n",
            "(3, 4)\n",
            "(5, 6)\n",
            "(7, 8)\n"
          ]
        }
      ]
    },
    {
      "cell_type": "code",
      "source": [
        "for (a,b) in my_list:\n",
        "    print(a,b)"
      ],
      "metadata": {
        "colab": {
          "base_uri": "https://localhost:8080/"
        },
        "id": "oQW54MFSLmNi",
        "outputId": "268dcee6-6a0b-423f-d839-ff5699304a91"
      },
      "execution_count": 26,
      "outputs": [
        {
          "output_type": "stream",
          "name": "stdout",
          "text": [
            "1 2\n",
            "3 4\n",
            "5 6\n",
            "7 8\n"
          ]
        }
      ]
    },
    {
      "cell_type": "code",
      "source": [
        "for (a,b) in my_list:\n",
        "    print(a)"
      ],
      "metadata": {
        "colab": {
          "base_uri": "https://localhost:8080/"
        },
        "id": "a2i7sbGnLmKz",
        "outputId": "8113459d-4b04-469b-9490-52e6248b40cb"
      },
      "execution_count": 28,
      "outputs": [
        {
          "output_type": "stream",
          "name": "stdout",
          "text": [
            "1\n",
            "3\n",
            "5\n",
            "7\n"
          ]
        }
      ]
    },
    {
      "cell_type": "code",
      "source": [
        "my_list = [(1,2,3),(4,5,6),(7,8,9)]\n",
        "\n",
        "for (a,b,c) in my_list:\n",
        "    print(b,c)"
      ],
      "metadata": {
        "colab": {
          "base_uri": "https://localhost:8080/"
        },
        "id": "yWES2uSHLmII",
        "outputId": "10159ee8-d25e-4b9e-ad5f-162819f365a9"
      },
      "execution_count": 30,
      "outputs": [
        {
          "output_type": "stream",
          "name": "stdout",
          "text": [
            "2 3\n",
            "5 6\n",
            "8 9\n"
          ]
        }
      ]
    },
    {
      "cell_type": "code",
      "source": [
        "my_dict = {\"k1\": 1, \"k2\": 2, \"k3\":3}\n",
        "\n",
        "for i in my_dict:\n",
        "    print(i)"
      ],
      "metadata": {
        "colab": {
          "base_uri": "https://localhost:8080/"
        },
        "id": "YBX7dkR8Oj_b",
        "outputId": "ed9f4988-97cd-4250-cf52-324531348920"
      },
      "execution_count": 32,
      "outputs": [
        {
          "output_type": "stream",
          "name": "stdout",
          "text": [
            "k1\n",
            "k2\n",
            "k3\n"
          ]
        }
      ]
    },
    {
      "cell_type": "code",
      "source": [
        "my_dict.items()"
      ],
      "metadata": {
        "colab": {
          "base_uri": "https://localhost:8080/"
        },
        "id": "9K_kiX9GOj9O",
        "outputId": "d481bdb8-40d3-407f-cf7f-df5ee116796a"
      },
      "execution_count": 33,
      "outputs": [
        {
          "output_type": "execute_result",
          "data": {
            "text/plain": [
              "dict_items([('k1', 1), ('k2', 2), ('k3', 3)])"
            ]
          },
          "metadata": {},
          "execution_count": 33
        }
      ]
    },
    {
      "cell_type": "code",
      "source": [
        "for i in my_dict.items():\n",
        "    print(i)"
      ],
      "metadata": {
        "colab": {
          "base_uri": "https://localhost:8080/"
        },
        "id": "dYoFqc8AOj6h",
        "outputId": "50b86019-d03e-4f9e-bd4a-8528883aa81a"
      },
      "execution_count": 34,
      "outputs": [
        {
          "output_type": "stream",
          "name": "stdout",
          "text": [
            "('k1', 1)\n",
            "('k2', 2)\n",
            "('k3', 3)\n"
          ]
        }
      ]
    },
    {
      "cell_type": "code",
      "source": [
        "for (a,b) in my_dict:\n",
        "    print(b)"
      ],
      "metadata": {
        "colab": {
          "base_uri": "https://localhost:8080/"
        },
        "id": "jvBNXv1MOj4M",
        "outputId": "a58cfeca-a093-4fd6-cee4-d853f6a0fcc1"
      },
      "execution_count": 35,
      "outputs": [
        {
          "output_type": "stream",
          "name": "stdout",
          "text": [
            "1\n",
            "2\n",
            "3\n"
          ]
        }
      ]
    },
    {
      "cell_type": "markdown",
      "source": [
        "## While Loops"
      ],
      "metadata": {
        "id": "rucJF-tKOj1w"
      }
    },
    {
      "cell_type": "code",
      "source": [
        "i = 0\n",
        "\n",
        "while i < 5:\n",
        "    print(i)\n",
        "    i = i + 1\n",
        "else:\n",
        "    print(\"i is not less than 5\")"
      ],
      "metadata": {
        "colab": {
          "base_uri": "https://localhost:8080/"
        },
        "id": "zOXjzDOAOjyp",
        "outputId": "d2e89ec1-02e0-49a1-eb92-0eb7e8e234bd"
      },
      "execution_count": 40,
      "outputs": [
        {
          "output_type": "stream",
          "name": "stdout",
          "text": [
            "0\n",
            "1\n",
            "2\n",
            "3\n",
            "4\n",
            "i is not less than 5\n"
          ]
        }
      ]
    },
    {
      "cell_type": "code",
      "source": [
        "i = 10\n",
        "\n",
        "while i < 5:\n",
        "    print(i)\n",
        "    i = i + 1\n",
        "else:\n",
        "    print(\"i is not less than 5\")"
      ],
      "metadata": {
        "colab": {
          "base_uri": "https://localhost:8080/"
        },
        "id": "ue03waqEOjv-",
        "outputId": "866075b6-60c4-4717-fad5-67c327b9fd81"
      },
      "execution_count": 41,
      "outputs": [
        {
          "output_type": "stream",
          "name": "stdout",
          "text": [
            "i is not less than 5\n"
          ]
        }
      ]
    },
    {
      "cell_type": "markdown",
      "source": [
        "### Pass, Break, and Continue"
      ],
      "metadata": {
        "id": "ctO0MsieLmFq"
      }
    },
    {
      "cell_type": "code",
      "source": [
        "l = [1,2,3,4,5]\n",
        "\n",
        "for items in l:\n",
        "    # comment\n",
        "    pass\n",
        "print(\"I will work after!\")\n",
        "\n",
        "# pass means skip this block of code"
      ],
      "metadata": {
        "colab": {
          "base_uri": "https://localhost:8080/"
        },
        "id": "sDFyhS37LmDG",
        "outputId": "007b9a9f-65f0-48ae-b4cd-2af9062cab4d"
      },
      "execution_count": 44,
      "outputs": [
        {
          "output_type": "stream",
          "name": "stdout",
          "text": [
            "I will work after!\n"
          ]
        }
      ]
    },
    {
      "cell_type": "code",
      "source": [
        "my_string = \"Hello World\"\n",
        "\n",
        "for letters in my_string:\n",
        "    if letters == \"r\":\n",
        "        break\n",
        "    print(letters)\n",
        "\n",
        "# break stops the loop once condition is true\n",
        "# prints all letters of string until first \"r\""
      ],
      "metadata": {
        "colab": {
          "base_uri": "https://localhost:8080/"
        },
        "id": "wrfn3PVILmAj",
        "outputId": "616a49c2-e289-4a01-9501-b24ba38e8506"
      },
      "execution_count": 48,
      "outputs": [
        {
          "output_type": "stream",
          "name": "stdout",
          "text": [
            "H\n",
            "e\n",
            "l\n",
            "l\n",
            "o\n",
            " \n",
            "W\n",
            "o\n"
          ]
        }
      ]
    },
    {
      "cell_type": "code",
      "source": [
        "my_string = \"Hello World\"\n",
        "\n",
        "for letters in my_string:\n",
        "    if letters == \"r\":\n",
        "        continue\n",
        "    print(letters)\n",
        "\n",
        "# continue keeps loop going without doing action\n",
        "# prints all letters of string, but skips all letters \"r\""
      ],
      "metadata": {
        "colab": {
          "base_uri": "https://localhost:8080/"
        },
        "id": "JId5eIziLl90",
        "outputId": "e028a6d1-6ed3-4129-952c-7cd0f56d250b"
      },
      "execution_count": 50,
      "outputs": [
        {
          "output_type": "stream",
          "name": "stdout",
          "text": [
            "H\n",
            "e\n",
            "l\n",
            "l\n",
            "o\n",
            " \n",
            "W\n",
            "o\n",
            "l\n",
            "d\n"
          ]
        }
      ]
    },
    {
      "cell_type": "code",
      "source": [
        "i = 0\n",
        "while i < 5:\n",
        "    if i == 3:\n",
        "        break\n",
        "    print(i)\n",
        "    i = i + 1"
      ],
      "metadata": {
        "colab": {
          "base_uri": "https://localhost:8080/"
        },
        "id": "IIHD76PrLl7O",
        "outputId": "f22c277d-72fe-4f45-aa55-18aa8882f367"
      },
      "execution_count": 51,
      "outputs": [
        {
          "output_type": "stream",
          "name": "stdout",
          "text": [
            "0\n",
            "1\n",
            "2\n"
          ]
        }
      ]
    },
    {
      "cell_type": "markdown",
      "source": [
        "## Most used Built-in functions in Python"
      ],
      "metadata": {
        "id": "YS58M4sCLl42"
      }
    },
    {
      "cell_type": "markdown",
      "source": [
        "### 1) Range function"
      ],
      "metadata": {
        "id": "_2cJ35PHUUzo"
      }
    },
    {
      "cell_type": "code",
      "source": [
        "for num in range(10):\n",
        "    print(num)"
      ],
      "metadata": {
        "colab": {
          "base_uri": "https://localhost:8080/"
        },
        "id": "Qkaxg7JvUUvH",
        "outputId": "31859ea9-680b-431f-e9c9-90d9595db719"
      },
      "execution_count": 54,
      "outputs": [
        {
          "output_type": "stream",
          "name": "stdout",
          "text": [
            "0\n",
            "1\n",
            "2\n",
            "3\n",
            "4\n",
            "5\n",
            "6\n",
            "7\n",
            "8\n",
            "9\n"
          ]
        }
      ]
    },
    {
      "cell_type": "code",
      "source": [
        "for num in range(3,10):\n",
        "    print(num)"
      ],
      "metadata": {
        "colab": {
          "base_uri": "https://localhost:8080/"
        },
        "id": "YPKEOXdQUUrT",
        "outputId": "58deaf4f-8a6f-4e69-e088-14aa9f8ef2b6"
      },
      "execution_count": 55,
      "outputs": [
        {
          "output_type": "stream",
          "name": "stdout",
          "text": [
            "3\n",
            "4\n",
            "5\n",
            "6\n",
            "7\n",
            "8\n",
            "9\n"
          ]
        }
      ]
    },
    {
      "cell_type": "code",
      "source": [
        "for num in range(0,11,2):\n",
        "    print(num)"
      ],
      "metadata": {
        "colab": {
          "base_uri": "https://localhost:8080/"
        },
        "id": "AnEASowRUUnl",
        "outputId": "7cf030f2-67e2-4679-8edd-774ff95952ae"
      },
      "execution_count": 56,
      "outputs": [
        {
          "output_type": "stream",
          "name": "stdout",
          "text": [
            "0\n",
            "2\n",
            "4\n",
            "6\n",
            "8\n",
            "10\n"
          ]
        }
      ]
    },
    {
      "cell_type": "code",
      "source": [
        "my_list = [0,1,2,3,4,5,6,7,8,9,10]\n",
        "range(10)\n",
        "list(range(10))\n",
        "list(range(1,11))\n",
        "\n",
        "# different ways of declaring a range"
      ],
      "metadata": {
        "colab": {
          "base_uri": "https://localhost:8080/"
        },
        "id": "MTTIgd5gUUjV",
        "outputId": "8f1655e2-b190-4403-b067-029f40ba351e"
      },
      "execution_count": 60,
      "outputs": [
        {
          "output_type": "execute_result",
          "data": {
            "text/plain": [
              "[1, 2, 3, 4, 5, 6, 7, 8, 9, 10]"
            ]
          },
          "metadata": {},
          "execution_count": 60
        }
      ]
    },
    {
      "cell_type": "markdown",
      "source": [
        "### 2) Enumerate"
      ],
      "metadata": {
        "id": "hPyIHevbUUZs"
      }
    },
    {
      "cell_type": "code",
      "source": [
        ""
      ],
      "metadata": {
        "id": "K1aETOoUVnp-"
      },
      "execution_count": null,
      "outputs": []
    },
    {
      "cell_type": "code",
      "source": [
        "word = \"Batman\"\n",
        "\n",
        "for items in word:\n",
        "    print(items)"
      ],
      "metadata": {
        "colab": {
          "base_uri": "https://localhost:8080/"
        },
        "id": "OQJfnbhdVnng",
        "outputId": "53212c30-8eb9-4fd9-d369-0267acb40677"
      },
      "execution_count": 61,
      "outputs": [
        {
          "output_type": "stream",
          "name": "stdout",
          "text": [
            "B\n",
            "a\n",
            "t\n",
            "m\n",
            "a\n",
            "n\n"
          ]
        }
      ]
    },
    {
      "cell_type": "code",
      "source": [
        "for items in enumerate(word):\n",
        "    print(items)"
      ],
      "metadata": {
        "colab": {
          "base_uri": "https://localhost:8080/"
        },
        "id": "agP5NqSaVnk_",
        "outputId": "acb13d5c-7f8e-4e6b-8db8-a15fc55eb086"
      },
      "execution_count": 63,
      "outputs": [
        {
          "output_type": "stream",
          "name": "stdout",
          "text": [
            "(0, 'B')\n",
            "(1, 'a')\n",
            "(2, 't')\n",
            "(3, 'm')\n",
            "(4, 'a')\n",
            "(5, 'n')\n"
          ]
        }
      ]
    },
    {
      "cell_type": "code",
      "source": [
        "for (a,b) in enumerate(word):\n",
        "    print(b)"
      ],
      "metadata": {
        "colab": {
          "base_uri": "https://localhost:8080/"
        },
        "id": "VCjgypxvVnid",
        "outputId": "5b44ebfb-4f3f-4d97-e4a5-7ed78a4c7bdb"
      },
      "execution_count": 65,
      "outputs": [
        {
          "output_type": "stream",
          "name": "stdout",
          "text": [
            "B\n",
            "a\n",
            "t\n",
            "m\n",
            "a\n",
            "n\n"
          ]
        }
      ]
    },
    {
      "cell_type": "code",
      "source": [
        "for (a,b) in enumerate(word):\n",
        "    print(a)\n",
        "    print(b)\n",
        "    print(\"\\n\")"
      ],
      "metadata": {
        "colab": {
          "base_uri": "https://localhost:8080/"
        },
        "id": "piwGw9JdVnft",
        "outputId": "85c8113b-1e95-43fb-c7ce-478831b50dc7"
      },
      "execution_count": 70,
      "outputs": [
        {
          "output_type": "stream",
          "name": "stdout",
          "text": [
            "0\n",
            "B\n",
            "\n",
            "\n",
            "1\n",
            "a\n",
            "\n",
            "\n",
            "2\n",
            "t\n",
            "\n",
            "\n",
            "3\n",
            "m\n",
            "\n",
            "\n",
            "4\n",
            "a\n",
            "\n",
            "\n",
            "5\n",
            "n\n",
            "\n",
            "\n"
          ]
        }
      ]
    },
    {
      "cell_type": "code",
      "source": [
        "# Python escape sequences\n",
        "# https://www.python-ds.com/python-3-escape-sequences"
      ],
      "metadata": {
        "id": "jZ-zg4cLVndU"
      },
      "execution_count": 68,
      "outputs": []
    },
    {
      "cell_type": "markdown",
      "source": [
        "### 3) Zip"
      ],
      "metadata": {
        "id": "2A7VbmSnVnaq"
      }
    },
    {
      "cell_type": "code",
      "source": [
        "list1 = [1,2,3,4,5]\n",
        "list2 = [\"a\",\"b\",\"c\",\"d\",\"e\"]\n",
        "list3 = [\"a\",\"b\",\"c\"]"
      ],
      "metadata": {
        "id": "jGetJwlHWU8I"
      },
      "execution_count": 71,
      "outputs": []
    },
    {
      "cell_type": "code",
      "source": [
        "list4 = zip(list1,list2)"
      ],
      "metadata": {
        "id": "C-bGnCPlWU5c"
      },
      "execution_count": 72,
      "outputs": []
    },
    {
      "cell_type": "code",
      "source": [
        "print(list4)"
      ],
      "metadata": {
        "colab": {
          "base_uri": "https://localhost:8080/"
        },
        "id": "lH9u0dibWU2q",
        "outputId": "c9d3ccff-8901-420b-bf49-15118ef224fe"
      },
      "execution_count": 73,
      "outputs": [
        {
          "output_type": "stream",
          "name": "stdout",
          "text": [
            "<zip object at 0x7f1d461d2e60>\n"
          ]
        }
      ]
    },
    {
      "cell_type": "code",
      "source": [
        "for items in zip(list1,list2):\n",
        "    print(items)"
      ],
      "metadata": {
        "colab": {
          "base_uri": "https://localhost:8080/"
        },
        "id": "4tr3pSmAWU0R",
        "outputId": "52cba19d-cda9-49b6-a931-5d0b6fd459d9"
      },
      "execution_count": 75,
      "outputs": [
        {
          "output_type": "stream",
          "name": "stdout",
          "text": [
            "(1, 'a')\n",
            "(2, 'b')\n",
            "(3, 'c')\n",
            "(4, 'd')\n",
            "(5, 'e')\n"
          ]
        }
      ]
    },
    {
      "cell_type": "code",
      "source": [
        "for a,b in zip(list1,list2):\n",
        "    print(a,b)"
      ],
      "metadata": {
        "colab": {
          "base_uri": "https://localhost:8080/"
        },
        "id": "47-8Us8DWUxw",
        "outputId": "cde2666f-f69e-4ce2-8f0e-cbe917fafb03"
      },
      "execution_count": 76,
      "outputs": [
        {
          "output_type": "stream",
          "name": "stdout",
          "text": [
            "1 a\n",
            "2 b\n",
            "3 c\n",
            "4 d\n",
            "5 e\n"
          ]
        }
      ]
    },
    {
      "cell_type": "code",
      "source": [
        "for items in zip(list1,list2,list3):\n",
        "    print(items)"
      ],
      "metadata": {
        "colab": {
          "base_uri": "https://localhost:8080/"
        },
        "id": "XqV1qn9UWUvL",
        "outputId": "0703e727-301d-40f1-c97e-89371f50c2df"
      },
      "execution_count": 77,
      "outputs": [
        {
          "output_type": "stream",
          "name": "stdout",
          "text": [
            "(1, 'a', 'a')\n",
            "(2, 'b', 'b')\n",
            "(3, 'c', 'c')\n"
          ]
        }
      ]
    },
    {
      "cell_type": "code",
      "source": [
        "for a,b,c in zip(list1,list2,list3):\n",
        "    print(b)"
      ],
      "metadata": {
        "colab": {
          "base_uri": "https://localhost:8080/"
        },
        "id": "rPbqkNmuWUsl",
        "outputId": "a11d4ac8-47b0-4c60-d2c1-79799adf1d56"
      },
      "execution_count": 78,
      "outputs": [
        {
          "output_type": "stream",
          "name": "stdout",
          "text": [
            "a\n",
            "b\n",
            "c\n"
          ]
        }
      ]
    }
  ]
}