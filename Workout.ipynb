{
  "nbformat": 4,
  "nbformat_minor": 0,
  "metadata": {
    "colab": {
      "name": "Workout.ipynb",
      "provenance": [],
      "collapsed_sections": [],
      "authorship_tag": "ABX9TyP5plYN2cRuJQomf7exX+IG",
      "include_colab_link": true
    },
    "kernelspec": {
      "name": "python3",
      "display_name": "Python 3"
    },
    "language_info": {
      "name": "python"
    }
  },
  "cells": [
    {
      "cell_type": "markdown",
      "metadata": {
        "id": "view-in-github",
        "colab_type": "text"
      },
      "source": [
        "<a href=\"https://colab.research.google.com/github/10zinchosang/Summer2022-DataAnalytics/blob/main/Workout.ipynb\" target=\"_parent\"><img src=\"https://colab.research.google.com/assets/colab-badge.svg\" alt=\"Open In Colab\"/></a>"
      ]
    },
    {
      "cell_type": "markdown",
      "source": [
        "# Python Practice Problems"
      ],
      "metadata": {
        "id": "kItYMgXpnFfZ"
      }
    },
    {
      "cell_type": "markdown",
      "source": [
        "## 1) Display numbers divisible by 5 from a list"
      ],
      "metadata": {
        "id": "2y_CUVuvnPwU"
      }
    },
    {
      "cell_type": "code",
      "source": [
        "def numbers_divisble_by_5(n):\n",
        "    \"\"\"\n",
        "    Description: This function prints out numbers divisble by 5 from a given list of numbers.\n",
        "    Created by: Tenzin Chosang\n",
        "    Input: list of numbers\n",
        "    Output: numbers divisble by 5 from a given list\n",
        "    \"\"\"\n",
        "\n",
        "    num = []\n",
        "    for i in n:\n",
        "        if i % 5 == 0:\n",
        "            num.append(i)\n",
        "    return(num)"
      ],
      "metadata": {
        "id": "cReIehh_nPuM"
      },
      "execution_count": null,
      "outputs": []
    },
    {
      "cell_type": "code",
      "source": [
        "help(numbers_divisble_by_5)"
      ],
      "metadata": {
        "colab": {
          "base_uri": "https://localhost:8080/"
        },
        "id": "wBFkzyofnPri",
        "outputId": "5c44b8b0-e09e-4c54-c182-5ee12b69f954"
      },
      "execution_count": null,
      "outputs": [
        {
          "output_type": "stream",
          "name": "stdout",
          "text": [
            "Help on function numbers_divisble_by_5 in module __main__:\n",
            "\n",
            "numbers_divisble_by_5(n)\n",
            "    Description: This function prints out numbers divisble by 5 from a given list of numbers.\n",
            "    Created by: Tenzin Chosang\n",
            "    Input: list of numbers\n",
            "    Output: numbers divisble by 5 from a given list\n",
            "\n"
          ]
        }
      ]
    },
    {
      "cell_type": "code",
      "source": [
        "numbers_divisble_by_5([0,2,4,6,8,10])"
      ],
      "metadata": {
        "colab": {
          "base_uri": "https://localhost:8080/"
        },
        "id": "H9WHK1BsnPpT",
        "outputId": "a9820e7c-cd96-4da2-8b29-30c12f892dec"
      },
      "execution_count": null,
      "outputs": [
        {
          "output_type": "execute_result",
          "data": {
            "text/plain": [
              "[0, 10]"
            ]
          },
          "metadata": {},
          "execution_count": 7
        }
      ]
    },
    {
      "cell_type": "markdown",
      "source": [
        "## 2) Check if the first and last number of a list is the same"
      ],
      "metadata": {
        "id": "RiTpxHxGoe09"
      }
    },
    {
      "cell_type": "code",
      "source": [
        "my_list = [0,2,4,6,8,0]\n",
        "if my_list[0] == my_list[-1]:\n",
        "    print(\"True\")\n",
        "else:\n",
        "    print(\"False\")"
      ],
      "metadata": {
        "colab": {
          "base_uri": "https://localhost:8080/"
        },
        "id": "2-5kvHrKqTRf",
        "outputId": "ad8bb232-be9a-4a21-d0b7-a9f7b2831a7e"
      },
      "execution_count": null,
      "outputs": [
        {
          "output_type": "stream",
          "name": "stdout",
          "text": [
            "True\n"
          ]
        }
      ]
    },
    {
      "cell_type": "markdown",
      "source": [
        "## 3) Display the first and last colors from a given list"
      ],
      "metadata": {
        "id": "FOwn27a6qTL9"
      }
    },
    {
      "cell_type": "code",
      "source": [
        "color_list = [\"red\",\"orange\",\"yellow\",\"green\",\"blue\",\"violet\"]\n",
        "print(\"Given this list of colors: \", color_list)\n",
        "print(\"The first color is: \", color_list[0])\n",
        "print(\"The last color is: \", color_list[-1])"
      ],
      "metadata": {
        "colab": {
          "base_uri": "https://localhost:8080/"
        },
        "id": "tIvXCH0CqTJd",
        "outputId": "badb7dd4-b276-422e-896f-2a355d1c82d1"
      },
      "execution_count": null,
      "outputs": [
        {
          "output_type": "stream",
          "name": "stdout",
          "text": [
            "Given this list of colors:  ['red', 'orange', 'yellow', 'green', 'blue', 'violet']\n",
            "The first color is:  red\n",
            "The last color is:  violet\n"
          ]
        }
      ]
    },
    {
      "cell_type": "markdown",
      "source": [
        "## 4) Input an integer (n) and computes the value of n+nn+nnn"
      ],
      "metadata": {
        "id": "eXSG235MqTGP"
      }
    },
    {
      "cell_type": "code",
      "source": [
        "def many_n(n):\n",
        "    \"\"\"\n",
        "    Description: This function prints out a number plus its square plus its cube\n",
        "    Created by: Tenzin Chosang\n",
        "    Input: a number\n",
        "    Output: n+nn+nnn\n",
        "    \"\"\"\n",
        "    sum = n + n*n + n*n*n\n",
        "    return sum"
      ],
      "metadata": {
        "id": "RgWWs4ucqS8s"
      },
      "execution_count": null,
      "outputs": []
    },
    {
      "cell_type": "code",
      "source": [
        "many_n(2)"
      ],
      "metadata": {
        "colab": {
          "base_uri": "https://localhost:8080/"
        },
        "id": "C1ae9AEC1iFH",
        "outputId": "ab6ac08e-c96a-4800-d01d-4362719fe1bd"
      },
      "execution_count": null,
      "outputs": [
        {
          "output_type": "execute_result",
          "data": {
            "text/plain": [
              "14"
            ]
          },
          "metadata": {},
          "execution_count": 50
        }
      ]
    },
    {
      "cell_type": "code",
      "source": [
        ""
      ],
      "metadata": {
        "id": "-jENHz1T1iCJ"
      },
      "execution_count": null,
      "outputs": []
    },
    {
      "cell_type": "code",
      "source": [
        ""
      ],
      "metadata": {
        "id": "lO2nxYyh2VQx"
      },
      "execution_count": null,
      "outputs": []
    },
    {
      "cell_type": "code",
      "source": [
        ""
      ],
      "metadata": {
        "id": "N9L8f7TY2XMO"
      },
      "execution_count": null,
      "outputs": []
    }
  ]
}